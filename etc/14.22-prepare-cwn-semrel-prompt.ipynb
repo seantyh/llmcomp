{
 "cells": [
  {
   "cell_type": "markdown",
   "metadata": {},
   "source": [
    "## Motivations"
   ]
  },
  {
   "cell_type": "markdown",
   "metadata": {},
   "source": [
    "* cwn-semrels tries to build a prompts dataset counterpart of the 14.10 pwn semrel."
   ]
  },
  {
   "cell_type": "code",
   "execution_count": 1,
   "metadata": {},
   "outputs": [],
   "source": [
    "import re\n",
    "import random\n",
    "import json\n",
    "from pathlib import Path\n",
    "from io import StringIO\n",
    "from CwnGraph import CwnImage, CwnSense\n",
    "\n",
    "cwn = CwnImage.latest()"
   ]
  },
  {
   "cell_type": "code",
   "execution_count": 2,
   "metadata": {},
   "outputs": [],
   "source": [
    "def make_unique(candid_list):\n",
    "  a_set = set()\n",
    "  b_set = set()\n",
    "  unique_list = []\n",
    "  for x, y in candid_list:\n",
    "    if x in a_set or y in b_set:\n",
    "      continue\n",
    "    else:\n",
    "      a_set.add(x)\n",
    "      b_set.add(y)\n",
    "      unique_list.append((x, y))\n",
    "  return unique_list  "
   ]
  },
  {
   "cell_type": "code",
   "execution_count": 3,
   "metadata": {},
   "outputs": [],
   "source": [
    "\n",
    "senses = cwn.get_all_senses()\n",
    "hypernyms = []\n",
    "holonyms = []\n",
    "for sense_x in senses:\n",
    "  for rel, sense_y, dir in sense_x.semantic_relations:\n",
    "    if dir != \"forward\": continue\n",
    "    if not isinstance(sense_y, CwnSense): continue\n",
    "    if rel == \"hyponym\":\n",
    "      hypernyms.append((sense_x, sense_y))\n",
    "    elif rel == \"meronym\":\n",
    "      holonyms.append((sense_x, sense_y))\n",
    "\n",
    "hyper_pairs = make_unique(hypernyms)\n",
    "holo_pairs = make_unique(holonyms)\n"
   ]
  },
  {
   "cell_type": "code",
   "execution_count": 4,
   "metadata": {},
   "outputs": [
    {
     "data": {
      "text/plain": [
       "(549, 77)"
      ]
     },
     "execution_count": 4,
     "metadata": {},
     "output_type": "execute_result"
    }
   ],
   "source": [
    "len(hyper_pairs), len(holo_pairs)"
   ]
  },
  {
   "cell_type": "code",
   "execution_count": 5,
   "metadata": {},
   "outputs": [],
   "source": [
    "def_task_prompt_base = \"\"\"\n",
    "「{a_lemma}」的釋義是{a_def}\n",
    "「{a_lemma}」的{semrel}是「{b_lemma}」：{b_def}\n",
    "\"\"\"\n",
    "\n",
    "def build_prompt(fstring, **kwargs):\n",
    "    var_locations = []\n",
    "    formatted_string = StringIO()    \n",
    "    while match:=re.search(r'\\{(\\w+)\\}', fstring):\n",
    "        var_name = match.group(1)\n",
    "        var_value = str(kwargs[var_name])  \n",
    "        \n",
    "        formatted_string.write(fstring[:match.start()])\n",
    "        var_start = formatted_string.tell()\n",
    "        formatted_string.write(var_value)\n",
    "        var_end = formatted_string.tell()\n",
    "        var_locations.append((var_name, var_value, var_start, var_end))\n",
    "        fstring = fstring[match.end():]    \n",
    "    formatted_string.write(fstring)\n",
    "\n",
    "    ## check var_locations\n",
    "    outstr = formatted_string.getvalue()\n",
    "    for _, val, si, ei in var_locations:\n",
    "        assert outstr[si:ei] == val\n",
    "        \n",
    "    return outstr, var_locations\n",
    "\n",
    "def prompt_from_semrel(semrel, pair):\n",
    "    assert semrel in (\"上位詞\", \"整體詞\")\n",
    "    a, b = pair\n",
    "    \n",
    "    up_lemma = a.lemmas[0].lemma\n",
    "    low_lemma = b.lemmas[0].lemma\n",
    "    up_def = a.definition\n",
    "    low_def = b.definition\n",
    "    \n",
    "    prompt, var_loc = build_prompt(\n",
    "        def_task_prompt_base.strip(), \n",
    "        semrel=semrel, a_lemma=low_lemma, a_def=low_def, b_lemma=up_lemma, b_def=up_def)    \n",
    "    return prompt, var_loc"
   ]
  },
  {
   "cell_type": "code",
   "execution_count": 6,
   "metadata": {},
   "outputs": [],
   "source": [
    "def shuffle_pairs(data_pairs, rng):\n",
    "    \"\"\"\n",
    "    Shuffles the first element of each pair in a list of data pairs randomly.\n",
    "\n",
    "    Args:\n",
    "        data_pairs (list): A list of pairs, where each pair is a tuple of two elements.\n",
    "\n",
    "    Returns:\n",
    "        list: A new list of pairs, where each pair is a tuple of two elements. The first element of each pair\n",
    "        is shuffled randomly.\n",
    "    \"\"\"    \n",
    "    shuffle_hypers = data_pairs[::1]\n",
    "    rng.shuffle(shuffle_hypers)\n",
    "    ori_b_list = [x[1] for x in data_pairs]\n",
    "    perm_a_list = [x[0] for x in shuffle_hypers]\n",
    "    perm_data_pairs = [(a,b) for a,b in zip(perm_a_list, ori_b_list)]\n",
    "    return perm_data_pairs"
   ]
  },
  {
   "cell_type": "code",
   "execution_count": 7,
   "metadata": {},
   "outputs": [],
   "source": [
    "rng = random.Random(123)\n",
    "perm_hyper_pairs = shuffle_pairs(hyper_pairs, rng)\n",
    "perm_holo_pairs = shuffle_pairs(holo_pairs, rng)"
   ]
  },
  {
   "cell_type": "code",
   "execution_count": 8,
   "metadata": {},
   "outputs": [
    {
     "data": {
      "text/plain": [
       "('「安」的釋義是心中存有特定態度或想法，常帶有負面涵義。\\n「安」的上位詞是「抱」：比喻心中存有特定態度或想法。',\n",
       " [('a_lemma', '安', 1, 2),\n",
       "  ('a_def', '心中存有特定態度或想法，常帶有負面涵義。', 7, 27),\n",
       "  ('a_lemma', '安', 29, 30),\n",
       "  ('semrel', '上位詞', 32, 35),\n",
       "  ('b_lemma', '抱', 37, 38),\n",
       "  ('b_def', '比喻心中存有特定態度或想法。', 40, 54)])"
      ]
     },
     "execution_count": 8,
     "metadata": {},
     "output_type": "execute_result"
    }
   ],
   "source": [
    "prompt_from_semrel(\"上位詞\", hyper_pairs[0])"
   ]
  },
  {
   "cell_type": "markdown",
   "metadata": {},
   "source": [
    "## Build pairs"
   ]
  },
  {
   "cell_type": "code",
   "execution_count": 9,
   "metadata": {},
   "outputs": [],
   "source": [
    "datalist = []\n",
    "def make_pair_label(pair):\n",
    "    a, b = pair    \n",
    "    return f\"{a.lemmas[0].lemma}@{a.id},{b.lemmas[0].lemma}@{b.id}\"\n",
    "\n",
    "def make_pos_label(pair):\n",
    "    a, b = pair    \n",
    "    return f\"{a.pos},{b.pos}\"\n",
    "\n",
    "for pair_x in hyper_pairs:\n",
    "    prompt, var_loc = prompt_from_semrel(\"上位詞\", pair_x)\n",
    "    datalist.append({\n",
    "        \"semrel\": \"hypernym\",\n",
    "        \"type\": \"emp\",        \n",
    "        \"pair\": make_pair_label(pair_x),\n",
    "        \"pos\": make_pos_label(pair_x),\n",
    "        \"prompt\": prompt,\n",
    "        \"var_loc\": var_loc        \n",
    "    })\n",
    "\n",
    "for pair_x in perm_hyper_pairs:\n",
    "    prompt, var_loc = prompt_from_semrel(\"上位詞\", pair_x)\n",
    "    datalist.append({\n",
    "        \"semrel\": \"hypernym\",\n",
    "        \"type\": \"perm\",\n",
    "        \"pair\": make_pair_label(pair_x),\n",
    "        \"pos\": make_pos_label(pair_x),\n",
    "        \"prompt\": prompt,\n",
    "        \"var_loc\": var_loc        \n",
    "    })\n",
    "\n",
    "for pair_x in holo_pairs:\n",
    "    prompt, var_loc = prompt_from_semrel(\"整體詞\", pair_x)\n",
    "    datalist.append({\n",
    "        \"semrel\": \"holonym\",\n",
    "        \"type\": \"emp\",\n",
    "        \"pair\": make_pair_label(pair_x),\n",
    "        \"pos\": make_pos_label(pair_x),\n",
    "        \"prompt\": prompt,\n",
    "        \"var_loc\": var_loc        \n",
    "    })\n",
    "\n",
    "for pair_x in perm_holo_pairs:\n",
    "    prompt, var_loc = prompt_from_semrel(\"整體詞\", pair_x)\n",
    "    datalist.append({\n",
    "        \"semrel\": \"holonym\",\n",
    "        \"type\": \"perm\",\n",
    "        \"pair\": make_pair_label(pair_x),\n",
    "        \"pos\": make_pos_label(pair_x),\n",
    "        \"prompt\": prompt,\n",
    "        \"var_loc\": var_loc        \n",
    "    })"
   ]
  },
  {
   "cell_type": "code",
   "execution_count": 10,
   "metadata": {},
   "outputs": [
    {
     "data": {
      "text/plain": [
       "[{'semrel': 'hypernym',\n",
       "  'type': 'emp',\n",
       "  'pair': '抱@03001704,安@06535712',\n",
       "  'pos': 'VJ,VC',\n",
       "  'prompt': '「安」的釋義是心中存有特定態度或想法，常帶有負面涵義。\\n「安」的上位詞是「抱」：比喻心中存有特定態度或想法。',\n",
       "  'var_loc': [('a_lemma', '安', 1, 2),\n",
       "   ('a_def', '心中存有特定態度或想法，常帶有負面涵義。', 7, 27),\n",
       "   ('a_lemma', '安', 29, 30),\n",
       "   ('semrel', '上位詞', 32, 35),\n",
       "   ('b_lemma', '抱', 37, 38),\n",
       "   ('b_def', '比喻心中存有特定態度或想法。', 40, 54)]}]"
      ]
     },
     "execution_count": 10,
     "metadata": {},
     "output_type": "execute_result"
    }
   ],
   "source": [
    "datalist[:1]"
   ]
  },
  {
   "cell_type": "code",
   "execution_count": 11,
   "metadata": {},
   "outputs": [
    {
     "data": {
      "text/plain": [
       "{'semrel': 'holonym',\n",
       " 'type': 'perm',\n",
       " 'pair': '舉止@13340201,報紙@03001801',\n",
       " 'pos': 'Na,Na',\n",
       " 'prompt': '「報紙」的釋義是定期出版、報導新聞、提供各式訊息的出版品。\\n「報紙」的整體詞是「舉止」：言語行為。',\n",
       " 'var_loc': [('a_lemma', '報紙', 1, 3),\n",
       "  ('a_def', '定期出版、報導新聞、提供各式訊息的出版品。', 8, 29),\n",
       "  ('a_lemma', '報紙', 31, 33),\n",
       "  ('semrel', '整體詞', 35, 38),\n",
       "  ('b_lemma', '舉止', 40, 42),\n",
       "  ('b_def', '言語行為。', 44, 49)]}"
      ]
     },
     "execution_count": 11,
     "metadata": {},
     "output_type": "execute_result"
    }
   ],
   "source": [
    "datalist[-1]"
   ]
  },
  {
   "cell_type": "code",
   "execution_count": 12,
   "metadata": {},
   "outputs": [
    {
     "name": "stdout",
     "output_type": "stream",
     "text": [
      "e17555f7349313ce3e70ae764925618cf5b886e1  ../data/cwn_semrel_dataset.json\n"
     ]
    }
   ],
   "source": [
    "out_path = Path(\"../data/cwn_semrel_dataset.json\")\n",
    "out_path.write_text(json.dumps(datalist))\n",
    "!sha1sum {str(out_path)}"
   ]
  }
 ],
 "metadata": {
  "kernelspec": {
   "display_name": "base",
   "language": "python",
   "name": "python3"
  },
  "language_info": {
   "codemirror_mode": {
    "name": "ipython",
    "version": 3
   },
   "file_extension": ".py",
   "mimetype": "text/x-python",
   "name": "python",
   "nbconvert_exporter": "python",
   "pygments_lexer": "ipython3",
   "version": "3.9.5"
  },
  "orig_nbformat": 4
 },
 "nbformat": 4,
 "nbformat_minor": 2
}
