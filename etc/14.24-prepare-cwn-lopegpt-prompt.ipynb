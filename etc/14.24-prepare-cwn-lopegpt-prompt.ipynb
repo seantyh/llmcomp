{
 "cells": [
  {
   "cell_type": "markdown",
   "metadata": {},
   "source": [
    "## Data dependencies"
   ]
  },
  {
   "cell_type": "code",
   "execution_count": 1,
   "metadata": {},
   "outputs": [
    {
     "name": "stdout",
     "output_type": "stream",
     "text": [
      "26fda18f16fa08b09bc168741a4d769ce230a5bd  ../data/lope-gpt-resps.json\n"
     ]
    }
   ],
   "source": [
    "!sha1sum ../data/lope-gpt-resps.json"
   ]
  },
  {
   "cell_type": "markdown",
   "metadata": {},
   "source": [
    "## Load Data"
   ]
  },
  {
   "cell_type": "code",
   "execution_count": 2,
   "metadata": {},
   "outputs": [],
   "source": [
    "import re\n",
    "import random\n",
    "import json\n",
    "from pathlib import Path\n",
    "from io import StringIO\n",
    "\n",
    "import numpy as np"
   ]
  },
  {
   "cell_type": "code",
   "execution_count": 3,
   "metadata": {},
   "outputs": [],
   "source": [
    "resp_data = json.loads(Path(\"../data/lope-gpt-resps.json\").read_text())"
   ]
  },
  {
   "cell_type": "code",
   "execution_count": 4,
   "metadata": {},
   "outputs": [
    {
     "data": {
      "text/plain": [
       "('丟棄',\n",
       " {'word': '丟棄',\n",
       "  'char_idx': 0,\n",
       "  'prompt': '請從CWN中「丟」的詞意裡，找出「丟棄」這個詞中「丟」的詞意？',\n",
       "  'message': '「丟」在「丟棄」這個詞中的詞意是「丟掉廢棄物」。'})"
      ]
     },
     "execution_count": 4,
     "metadata": {},
     "output_type": "execute_result"
    }
   ],
   "source": [
    "next(iter(resp_data.items()))"
   ]
  },
  {
   "cell_type": "code",
   "execution_count": 5,
   "metadata": {},
   "outputs": [
    {
     "name": "stdout",
     "output_type": "stream",
     "text": [
      "[205.]\n",
      "longest message: 367\n"
     ]
    },
    {
     "data": {
      "text/plain": [
       "{'word': '丟棄',\n",
       " 'char_idx': 0,\n",
       " 'prompt': '請從CWN中「丟」的詞意裡，找出「丟棄」這個詞中「丟」的詞意？',\n",
       " 'message': '「丟」在「丟棄」這個詞中的詞意是「丟掉廢棄物」。'}"
      ]
     },
     "execution_count": 5,
     "metadata": {},
     "output_type": "execute_result"
    }
   ],
   "source": [
    "print(np.quantile([len(x[\"message\"]) for x in resp_data.values()], [.95]))\n",
    "data = [x for x in resp_data.values() if not x[\"message\"].startswith(\"[\")]\n",
    "print(\"longest message:\", max(len(x[\"message\"]) for x in data))\n",
    "data[0]"
   ]
  },
  {
   "cell_type": "code",
   "execution_count": 6,
   "metadata": {},
   "outputs": [],
   "source": [
    "def_task_prompt_base = \"{prompt}{message}\"\n",
    "\n",
    "def build_prompt(fstring, **kwargs):\n",
    "    var_locations = []\n",
    "    formatted_string = StringIO()    \n",
    "    while match:=re.search(r'\\{(\\w+)\\}', fstring):\n",
    "        var_name = match.group(1)\n",
    "        var_value = str(kwargs[var_name])  \n",
    "        \n",
    "        formatted_string.write(fstring[:match.start()])\n",
    "        var_start = formatted_string.tell()\n",
    "        formatted_string.write(var_value)\n",
    "        var_end = formatted_string.tell()\n",
    "        var_locations.append((var_name, var_value, var_start, var_end))\n",
    "        fstring = fstring[match.end():]    \n",
    "    formatted_string.write(fstring)\n",
    "\n",
    "    ## check var_locations\n",
    "    outstr = formatted_string.getvalue()\n",
    "    for _, val, si, ei in var_locations:\n",
    "        assert outstr[si:ei] == val\n",
    "        \n",
    "    return outstr, var_locations\n"
   ]
  },
  {
   "cell_type": "code",
   "execution_count": 7,
   "metadata": {},
   "outputs": [],
   "source": [
    "def shuffle_data(indata, rng):\n",
    "    \"\"\"\n",
    "    Shuffles the first element of each pair in a list of data pairs randomly.\n",
    "\n",
    "    Args:\n",
    "        data_pairs (list): A list of pairs, where each pair is a tuple of two elements.\n",
    "\n",
    "    Returns:\n",
    "        list: A new list of pairs, where each pair is a tuple of two elements. The first element of each pair\n",
    "        is shuffled randomly.\n",
    "    \"\"\"    \n",
    "    shuffle_items = [(x[\"message\"], x[\"word\"]) for x in indata]\n",
    "    rng.shuffle(shuffle_items)\n",
    "    perm_data = [{**d, \"message\": s[0], \"perm_src\": s[1]} for d, s in zip(indata, shuffle_items)]\n",
    "    return perm_data"
   ]
  },
  {
   "cell_type": "code",
   "execution_count": 8,
   "metadata": {},
   "outputs": [],
   "source": [
    "rng = random.Random(123)\n",
    "perm_data = shuffle_data(data, rng)"
   ]
  },
  {
   "cell_type": "code",
   "execution_count": 9,
   "metadata": {},
   "outputs": [
    {
     "data": {
      "text/plain": [
       "('請從CWN中「丟」的詞意裡，找出「丟棄」這個詞中「丟」的詞意？「丟」在「丟棄」這個詞中的詞意是「丟掉廢棄物」。',\n",
       " [('prompt', '請從CWN中「丟」的詞意裡，找出「丟棄」這個詞中「丟」的詞意？', 0, 31),\n",
       "  ('message', '「丟」在「丟棄」這個詞中的詞意是「丟掉廢棄物」。', 31, 55)])"
      ]
     },
     "execution_count": 9,
     "metadata": {},
     "output_type": "execute_result"
    }
   ],
   "source": [
    "build_prompt(def_task_prompt_base, prompt=data[0][\"prompt\"], message=data[0][\"message\"])"
   ]
  },
  {
   "cell_type": "code",
   "execution_count": 10,
   "metadata": {},
   "outputs": [
    {
     "data": {
      "text/plain": [
       "('請從CWN中「丟」的詞意裡，找出「丟棄」這個詞中「丟」的詞意？「設廠」這個詞中的「廠」的詞意有多個，包括：\\n\\n1. 運用技術將原料製成特定物品的場所。\\n2. 工廠的建築物及建築物所在的位置。\\n3. 從事製造生產的公司。\\n4. 修理保養特定器具的建築物及建築物所在的位置。\\n5. 比喻保養特定身體部位的建築物及建築物所在的位置。\\n6. 姓。\\n\\n請問還有其他問題嗎？',\n",
       " [('prompt', '請從CWN中「丟」的詞意裡，找出「丟棄」這個詞中「丟」的詞意？', 0, 31),\n",
       "  ('message',\n",
       "   '「設廠」這個詞中的「廠」的詞意有多個，包括：\\n\\n1. 運用技術將原料製成特定物品的場所。\\n2. 工廠的建築物及建築物所在的位置。\\n3. 從事製造生產的公司。\\n4. 修理保養特定器具的建築物及建築物所在的位置。\\n5. 比喻保養特定身體部位的建築物及建築物所在的位置。\\n6. 姓。\\n\\n請問還有其他問題嗎？',\n",
       "   31,\n",
       "   181)])"
      ]
     },
     "execution_count": 10,
     "metadata": {},
     "output_type": "execute_result"
    }
   ],
   "source": [
    "build_prompt(def_task_prompt_base, prompt=perm_data[0][\"prompt\"], message=perm_data[0][\"message\"])"
   ]
  },
  {
   "cell_type": "markdown",
   "metadata": {},
   "source": [
    "## Build pairs"
   ]
  },
  {
   "cell_type": "code",
   "execution_count": 11,
   "metadata": {},
   "outputs": [],
   "source": [
    "datalist = []\n",
    "for item_x in data:\n",
    "    prompt, var_loc = build_prompt(def_task_prompt_base, \n",
    "                                   prompt=item_x[\"prompt\"], message=item_x[\"message\"])\n",
    "    datalist.append({\n",
    "        \"word\": item_x[\"word\"],\n",
    "        \"char_idx\": item_x[\"char_idx\"],\n",
    "        \"msg_src\": item_x[\"word\"],\n",
    "        \"type\": \"emp\",        \n",
    "        \"prompt\": prompt,\n",
    "        \"var_loc\": var_loc        \n",
    "    })\n",
    "\n",
    "for item_x in perm_data:\n",
    "    prompt, var_loc = build_prompt(def_task_prompt_base, \n",
    "                                   prompt=item_x[\"prompt\"], message=item_x[\"message\"])\n",
    "    datalist.append({\n",
    "        \"word\": item_x[\"word\"],\n",
    "        \"char_idx\": item_x[\"char_idx\"],\n",
    "        \"msg_src\": item_x[\"perm_src\"],\n",
    "        \"type\": \"perm\",        \n",
    "        \"prompt\": prompt,\n",
    "        \"var_loc\": var_loc        \n",
    "    })"
   ]
  },
  {
   "cell_type": "code",
   "execution_count": 12,
   "metadata": {},
   "outputs": [
    {
     "data": {
      "text/plain": [
       "[{'word': '丟棄',\n",
       "  'char_idx': 0,\n",
       "  'msg_src': '丟棄',\n",
       "  'type': 'emp',\n",
       "  'prompt': '請從CWN中「丟」的詞意裡，找出「丟棄」這個詞中「丟」的詞意？「丟」在「丟棄」這個詞中的詞意是「丟掉廢棄物」。',\n",
       "  'var_loc': [('prompt', '請從CWN中「丟」的詞意裡，找出「丟棄」這個詞中「丟」的詞意？', 0, 31),\n",
       "   ('message', '「丟」在「丟棄」這個詞中的詞意是「丟掉廢棄物」。', 31, 55)]}]"
      ]
     },
     "execution_count": 12,
     "metadata": {},
     "output_type": "execute_result"
    }
   ],
   "source": [
    "datalist[:1]"
   ]
  },
  {
   "cell_type": "code",
   "execution_count": 13,
   "metadata": {},
   "outputs": [
    {
     "data": {
      "text/plain": [
       "{'word': '首先',\n",
       " 'char_idx': 0,\n",
       " 'msg_src': '展望',\n",
       " 'type': 'perm',\n",
       " 'prompt': '請從CWN中「首」的詞意裡，找出「首先」這個詞中「首」的詞意？「展望」這個詞中的「展」的詞意是「有規劃地陳列特定物品或示範特定技術供人觀賞」。',\n",
       " 'var_loc': [('prompt', '請從CWN中「首」的詞意裡，找出「首先」這個詞中「首」的詞意？', 0, 31),\n",
       "  ('message', '「展望」這個詞中的「展」的詞意是「有規劃地陳列特定物品或示範特定技術供人觀賞」。', 31, 71)]}"
      ]
     },
     "execution_count": 13,
     "metadata": {},
     "output_type": "execute_result"
    }
   ],
   "source": [
    "datalist[-2]"
   ]
  },
  {
   "cell_type": "code",
   "execution_count": 14,
   "metadata": {},
   "outputs": [
    {
     "name": "stdout",
     "output_type": "stream",
     "text": [
      "51476df89ae9674b24c033257752a8a56adc7b99  ../data/cwn_lopegpt_dataset.json\n"
     ]
    }
   ],
   "source": [
    "out_path = Path(\"../data/cwn_lopegpt_dataset.json\")\n",
    "out_path.write_text(json.dumps(datalist))\n",
    "!sha1sum {str(out_path)}"
   ]
  },
  {
   "cell_type": "code",
   "execution_count": null,
   "metadata": {},
   "outputs": [],
   "source": []
  }
 ],
 "metadata": {
  "kernelspec": {
   "display_name": "base",
   "language": "python",
   "name": "python3"
  },
  "language_info": {
   "codemirror_mode": {
    "name": "ipython",
    "version": 3
   },
   "file_extension": ".py",
   "mimetype": "text/x-python",
   "name": "python",
   "nbconvert_exporter": "python",
   "pygments_lexer": "ipython3",
   "version": "3.9.5"
  },
  "orig_nbformat": 4
 },
 "nbformat": 4,
 "nbformat_minor": 2
}
