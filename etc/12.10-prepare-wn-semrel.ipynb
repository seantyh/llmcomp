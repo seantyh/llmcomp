{
 "cells": [
  {
   "cell_type": "markdown",
   "id": "724a1f1f-a1c2-43ad-b13f-d95a62120dc0",
   "metadata": {},
   "source": [
    "## Data dependencies"
   ]
  },
  {
   "cell_type": "code",
   "execution_count": 1,
   "id": "88f7f3bd-360a-45af-948e-206036df0c90",
   "metadata": {},
   "outputs": [
    {
     "name": "stdout",
     "output_type": "stream",
     "text": [
      "e5581f09fa9a56b2bfa80badf9af6e5ddfd1e7b5  ../data/semcor_synfreq.json\n"
     ]
    }
   ],
   "source": [
    "!sha1sum ../data/semcor_synfreq.json"
   ]
  },
  {
   "cell_type": "markdown",
   "id": "44fe76c0-4083-4f73-9566-b4dd50be44b8",
   "metadata": {},
   "source": [
    "## Load Data"
   ]
  },
  {
   "cell_type": "code",
   "execution_count": 2,
   "id": "f3500b6e-d851-4c21-bba9-d387b759fd58",
   "metadata": {},
   "outputs": [],
   "source": [
    "import json\n",
    "from pathlib import Path\n",
    "from tqdm.auto import tqdm\n",
    "from nltk.corpus import wordnet as wn"
   ]
  },
  {
   "cell_type": "code",
   "execution_count": 3,
   "id": "99f3f802-90bf-4425-822a-25f5075ceec9",
   "metadata": {},
   "outputs": [
    {
     "data": {
      "application/json": {
       "ascii": false,
       "bar_format": null,
       "colour": null,
       "elapsed": 0.004948616027832031,
       "initial": 0,
       "n": 0,
       "ncols": null,
       "nrows": 23,
       "postfix": null,
       "prefix": "",
       "rate": null,
       "total": null,
       "unit": "it",
       "unit_divisor": 1000,
       "unit_scale": false
      },
      "application/vnd.jupyter.widget-view+json": {
       "model_id": "fbcf2fee9e2442d4b787345f749595a9",
       "version_major": 2,
       "version_minor": 0
      },
      "text/plain": [
       "0it [00:00, ?it/s]"
      ]
     },
     "metadata": {},
     "output_type": "display_data"
    }
   ],
   "source": [
    "synfreq = dict(json.loads(Path(\"../data/semcor_synfreq.json\").read_text()))\n",
    "synfreq = {k:f for k, f in synfreq.items() if f>5}\n",
    "def in_synfreq(x):\n",
    "    return filter(lambda s: s.name() in synfreq, x)\n",
    "\n",
    "hypernymy_pairs = []\n",
    "holonymy_pairs = []\n",
    "\n",
    "for syn_x in tqdm(wn.all_synsets()):\n",
    "    # only consider synsets appearing in the semcor 3.0 \n",
    "    if syn_x.name() not in synfreq:\n",
    "        continue\n",
    "    hypernymy_pairs.extend([(syn_x, hypo_x) for hypo_x in in_synfreq(syn_x.hyponyms())])\n",
    "    holonymy_pairs.extend([(syn_x, mero_x) for mero_x in in_synfreq(syn_x.member_meronyms())])\n",
    "    holonymy_pairs.extend([(syn_x, mero_x) for mero_x in in_synfreq(syn_x.substance_meronyms())])\n",
    "    holonymy_pairs.extend([(syn_x, mero_x) for mero_x in in_synfreq(syn_x.part_meronyms())])"
   ]
  },
  {
   "cell_type": "code",
   "execution_count": 4,
   "id": "a2c74e05-cc6d-4aac-a78d-85bb5fb9b71f",
   "metadata": {},
   "outputs": [
    {
     "data": {
      "text/plain": [
       "(3036, 278)"
      ]
     },
     "execution_count": 4,
     "metadata": {},
     "output_type": "execute_result"
    }
   ],
   "source": [
    "len(hypernymy_pairs), len(holonymy_pairs)"
   ]
  },
  {
   "cell_type": "code",
   "execution_count": 5,
   "id": "98e19938-dcb0-45f9-925a-9a77255d44e3",
   "metadata": {},
   "outputs": [],
   "source": [
    "def dedup_pairs(pairs):\n",
    "    a_set, b_set = set(), set()\n",
    "    pairset = set()\n",
    "    for (a,b) in pairs:\n",
    "        if a.name() in a_set or b.name() in b_set:\n",
    "            continue\n",
    "        else:\n",
    "            a_set.add(a.name())\n",
    "            b_set.add(b.name())\n",
    "            pairset.add((a.name(),b.name()))\n",
    "    return pairset\n",
    "hypernymy_pairs_dedup = list(dedup_pairs(hypernymy_pairs))\n",
    "holonymy_pairs_dedup = list(dedup_pairs(holonymy_pairs))\n",
    "\n",
    "# sort the list for replicable ordering\n",
    "hypernymy_pairs_dedup = sorted(hypernymy_pairs_dedup, key=lambda x: x[0])\n",
    "holonymy_pairs_dedup = sorted(holonymy_pairs_dedup, key=lambda x: x[0])"
   ]
  },
  {
   "cell_type": "code",
   "execution_count": 6,
   "id": "7c3a992f-3848-427d-86b5-bcb01fb15ab8",
   "metadata": {},
   "outputs": [
    {
     "data": {
      "text/plain": [
       "(1285, 164)"
      ]
     },
     "execution_count": 6,
     "metadata": {},
     "output_type": "execute_result"
    }
   ],
   "source": [
    "len(hypernymy_pairs_dedup), len(holonymy_pairs_dedup)"
   ]
  },
  {
   "cell_type": "code",
   "execution_count": 7,
   "id": "1baee3e8-b15c-4183-a40e-4a9ae00aba94",
   "metadata": {},
   "outputs": [],
   "source": [
    "## Check all synset appears at most twice (one in upper, one in lower) and occurs in synfreq\n",
    "from collections import Counter\n",
    "counter = Counter()\n",
    "for a,b in hypernymy_pairs_dedup:\n",
    "    assert a in synfreq and b in synfreq\n",
    "    counter[a] += 1\n",
    "    counter[b] += 1\n",
    "assert all(x<=2 for x in counter.values())\n",
    "\n",
    "counter = Counter()\n",
    "for a,b in holonymy_pairs_dedup:\n",
    "    assert a in synfreq and b in synfreq\n",
    "    counter[a] += 1\n",
    "    counter[b] += 1\n",
    "assert all(x<=2 for x in counter.values())"
   ]
  },
  {
   "cell_type": "code",
   "execution_count": 8,
   "id": "64831530-e35f-4e6e-9951-1e682f95b732",
   "metadata": {},
   "outputs": [
    {
     "name": "stdout",
     "output_type": "stream",
     "text": [
      "2ef1e20540a9724ef89f4da60dd883eb6993d60c  ../data/pwn_semrel_pairs.json\n"
     ]
    }
   ],
   "source": [
    "Path(\"../data/pwn_semrel_pairs.json\").write_text(\n",
    "     json.dumps({\"hypernymy\": hypernymy_pairs_dedup, \"holonymy\": holonymy_pairs_dedup}))\n",
    "!sha1sum ../data/pwn_semrel_pairs.json"
   ]
  },
  {
   "cell_type": "code",
   "execution_count": null,
   "id": "1f09a622-b416-4ab9-8473-f063b1e2a527",
   "metadata": {},
   "outputs": [],
   "source": []
  }
 ],
 "metadata": {
  "kernelspec": {
   "display_name": "Python 3 (ipykernel)",
   "language": "python",
   "name": "python3"
  },
  "language_info": {
   "codemirror_mode": {
    "name": "ipython",
    "version": 3
   },
   "file_extension": ".py",
   "mimetype": "text/x-python",
   "name": "python",
   "nbconvert_exporter": "python",
   "pygments_lexer": "ipython3",
   "version": "3.9.5"
  }
 },
 "nbformat": 4,
 "nbformat_minor": 5
}
