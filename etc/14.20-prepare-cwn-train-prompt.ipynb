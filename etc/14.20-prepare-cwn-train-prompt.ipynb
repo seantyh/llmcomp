{
 "cells": [
  {
   "cell_type": "markdown",
   "metadata": {},
   "source": [
    "## Data dependencies"
   ]
  },
  {
   "cell_type": "code",
   "execution_count": 1,
   "metadata": {},
   "outputs": [
    {
     "name": "stdout",
     "output_type": "stream",
     "text": [
      "fd3666f6bdd4c895546832f71f30476d7d310bf1  ../data/cwn-test-500-Taiwan-LLaMa-eval.csv\n"
     ]
    }
   ],
   "source": [
    "!sha1sum ../data/cwn-test-500-Taiwan-LLaMa-eval.csv"
   ]
  },
  {
   "cell_type": "markdown",
   "metadata": {},
   "source": [
    "## Load data"
   ]
  },
  {
   "cell_type": "code",
   "execution_count": 2,
   "metadata": {},
   "outputs": [],
   "source": [
    "import re\n",
    "from io import StringIO\n",
    "import pandas as pd\n",
    "\n",
    "data = pd.read_csv(\"../data/cwn-test-500-Taiwan-LLaMa-eval.csv\")\n",
    "data.index.set_names(\"serial\", inplace=True)\n",
    "data = data.reset_index()"
   ]
  },
  {
   "cell_type": "code",
   "execution_count": 3,
   "metadata": {},
   "outputs": [],
   "source": [
    "subdata = data.loc[:, \"serial,given,want,term,pos,gold,perm_gold,complete\".split(\",\")]"
   ]
  },
  {
   "cell_type": "code",
   "execution_count": 4,
   "metadata": {},
   "outputs": [],
   "source": [
    "subdata[\"ori_prompt\"] = subdata.complete.map(lambda x: x.split(\"ASSISTANT\")[0].strip())"
   ]
  },
  {
   "cell_type": "code",
   "execution_count": 5,
   "metadata": {},
   "outputs": [],
   "source": [
    "## What should I use as a key?"
   ]
  },
  {
   "cell_type": "code",
   "execution_count": 6,
   "metadata": {},
   "outputs": [],
   "source": [
    "cwn_prompt_template = \"\"\"\n",
    "{ori_prompt}\n",
    "ASSISTANT: {resp}\n",
    "\"\"\".strip()\n",
    "\n",
    "def build_prompt(fstring, **kwargs):\n",
    "    var_locations = []\n",
    "    formatted_string = StringIO()    \n",
    "    while match:=re.search(r'\\{(\\w+)\\}', fstring):\n",
    "        var_name = match.group(1)\n",
    "        var_value = str(kwargs[var_name])  \n",
    "        \n",
    "        formatted_string.write(fstring[:match.start()])\n",
    "        var_start = formatted_string.tell()\n",
    "        formatted_string.write(var_value)\n",
    "        var_end = formatted_string.tell()\n",
    "        var_locations.append((var_name, var_value, var_start, var_end))\n",
    "        fstring = fstring[match.end():]    \n",
    "    formatted_string.write(fstring)\n",
    "\n",
    "    ## check var_locations\n",
    "    outstr = formatted_string.getvalue()\n",
    "    for _, val, si, ei in var_locations:\n",
    "        assert outstr[si:ei] == val\n",
    "        \n",
    "    return outstr, var_locations\n"
   ]
  },
  {
   "cell_type": "code",
   "execution_count": 7,
   "metadata": {},
   "outputs": [],
   "source": [
    "prompt_items = []\n",
    "def format_prompt(ori_prompt, resp):\n",
    "  prompt, var_loc = build_prompt(cwn_prompt_template,\n",
    "    ori_prompt=ori_prompt, resp=resp)\n",
    "  return prompt, var_loc\n",
    "\n",
    "for _, row in subdata.iterrows():\n",
    "    gold_prompt, gold_loc = format_prompt(row.ori_prompt, row.gold)\n",
    "    perm_prompt, perm_loc = format_prompt(row.ori_prompt, row.perm_gold)\n",
    "    prompt_items.append({\n",
    "        \"eval_serial\": row.serial,\n",
    "        \"term\": row.term,\n",
    "        \"pos\": row.pos,\n",
    "        \"prompt_type\": \"emp\",\n",
    "        \"prompt\": gold_prompt,\n",
    "        \"resp_loc\": gold_loc[1][2:],\n",
    "    })\n",
    "    prompt_items.append({\n",
    "        \"eval_serial\": row.serial,\n",
    "        \"term\": row.term,\n",
    "        \"pos\": row.pos,\n",
    "        \"prompt_type\": \"perm\",\n",
    "        \"prompt\": perm_prompt,\n",
    "        \"resp_loc\": perm_loc[1][2:]\n",
    "    })"
   ]
  },
  {
   "cell_type": "code",
   "execution_count": 8,
   "metadata": {},
   "outputs": [
    {
     "data": {
      "text/html": [
       "<div>\n",
       "<style scoped>\n",
       "    .dataframe tbody tr th:only-of-type {\n",
       "        vertical-align: middle;\n",
       "    }\n",
       "\n",
       "    .dataframe tbody tr th {\n",
       "        vertical-align: top;\n",
       "    }\n",
       "\n",
       "    .dataframe thead th {\n",
       "        text-align: right;\n",
       "    }\n",
       "</style>\n",
       "<table border=\"1\" class=\"dataframe\">\n",
       "  <thead>\n",
       "    <tr style=\"text-align: right;\">\n",
       "      <th></th>\n",
       "      <th>eval_serial</th>\n",
       "      <th>term</th>\n",
       "      <th>pos</th>\n",
       "      <th>prompt_type</th>\n",
       "      <th>prompt</th>\n",
       "      <th>resp_loc</th>\n",
       "    </tr>\n",
       "  </thead>\n",
       "  <tbody>\n",
       "    <tr>\n",
       "      <th>0</th>\n",
       "      <td>0</td>\n",
       "      <td>&lt;幕&gt;</td>\n",
       "      <td>&lt;Na&gt;</td>\n",
       "      <td>emp</td>\n",
       "      <td>USER: 給定詞條、詞性和例句，創建一個最能代表該詞條的定義。\\n詞條： &lt;幕&gt;\\n詞性：...</td>\n",
       "      <td>(187, 201)</td>\n",
       "    </tr>\n",
       "    <tr>\n",
       "      <th>1</th>\n",
       "      <td>0</td>\n",
       "      <td>&lt;幕&gt;</td>\n",
       "      <td>&lt;Na&gt;</td>\n",
       "      <td>perm</td>\n",
       "      <td>USER: 給定詞條、詞性和例句，創建一個最能代表該詞條的定義。\\n詞條： &lt;幕&gt;\\n詞性：...</td>\n",
       "      <td>(187, 202)</td>\n",
       "    </tr>\n",
       "    <tr>\n",
       "      <th>2</th>\n",
       "      <td>1</td>\n",
       "      <td>&lt;幕&gt;</td>\n",
       "      <td>&lt;Na&gt;</td>\n",
       "      <td>emp</td>\n",
       "      <td>USER: 給定詞條、詞性和定義，創建一個最能代表該詞條的例句。\\n詞條： &lt;幕&gt;\\n詞性：...</td>\n",
       "      <td>(79, 201)</td>\n",
       "    </tr>\n",
       "    <tr>\n",
       "      <th>3</th>\n",
       "      <td>1</td>\n",
       "      <td>&lt;幕&gt;</td>\n",
       "      <td>&lt;Na&gt;</td>\n",
       "      <td>perm</td>\n",
       "      <td>USER: 給定詞條、詞性和定義，創建一個最能代表該詞條的例句。\\n詞條： &lt;幕&gt;\\n詞性：...</td>\n",
       "      <td>(79, 274)</td>\n",
       "    </tr>\n",
       "    <tr>\n",
       "      <th>4</th>\n",
       "      <td>2</td>\n",
       "      <td>&lt;幕&gt;</td>\n",
       "      <td>&lt;Na&gt;</td>\n",
       "      <td>emp</td>\n",
       "      <td>USER: 給定詞條、詞性和定義，列出該詞條的同義詞。\\n詞條： &lt;幕&gt;\\n詞性：&lt;Na&gt;\\...</td>\n",
       "      <td>(202, 276)</td>\n",
       "    </tr>\n",
       "  </tbody>\n",
       "</table>\n",
       "</div>"
      ],
      "text/plain": [
       "   eval_serial term   pos prompt_type  \\\n",
       "0            0  <幕>  <Na>         emp   \n",
       "1            0  <幕>  <Na>        perm   \n",
       "2            1  <幕>  <Na>         emp   \n",
       "3            1  <幕>  <Na>        perm   \n",
       "4            2  <幕>  <Na>         emp   \n",
       "\n",
       "                                              prompt    resp_loc  \n",
       "0  USER: 給定詞條、詞性和例句，創建一個最能代表該詞條的定義。\\n詞條： <幕>\\n詞性：...  (187, 201)  \n",
       "1  USER: 給定詞條、詞性和例句，創建一個最能代表該詞條的定義。\\n詞條： <幕>\\n詞性：...  (187, 202)  \n",
       "2  USER: 給定詞條、詞性和定義，創建一個最能代表該詞條的例句。\\n詞條： <幕>\\n詞性：...   (79, 201)  \n",
       "3  USER: 給定詞條、詞性和定義，創建一個最能代表該詞條的例句。\\n詞條： <幕>\\n詞性：...   (79, 274)  \n",
       "4  USER: 給定詞條、詞性和定義，列出該詞條的同義詞。\\n詞條： <幕>\\n詞性：<Na>\\...  (202, 276)  "
      ]
     },
     "execution_count": 8,
     "metadata": {},
     "output_type": "execute_result"
    }
   ],
   "source": [
    "prompt_df = pd.DataFrame(prompt_items)\n",
    "prompt_df.head()"
   ]
  },
  {
   "cell_type": "code",
   "execution_count": 9,
   "metadata": {},
   "outputs": [
    {
     "name": "stdout",
     "output_type": "stream",
     "text": [
      "2e101d021306406001c3c4a6c3bf3679bc4149e9  ../data/cwn-prompt-500-perm-eval.csv\n"
     ]
    }
   ],
   "source": [
    "out_path = \"../data/cwn-prompt-500-perm-eval.csv\"\n",
    "prompt_df.to_csv(out_path, index=False)\n",
    "!sha1sum $out_path"
   ]
  }
 ],
 "metadata": {
  "kernelspec": {
   "display_name": "base",
   "language": "python",
   "name": "python3"
  },
  "language_info": {
   "codemirror_mode": {
    "name": "ipython",
    "version": 3
   },
   "file_extension": ".py",
   "mimetype": "text/x-python",
   "name": "python",
   "nbconvert_exporter": "python",
   "pygments_lexer": "ipython3",
   "version": "3.9.5"
  }
 },
 "nbformat": 4,
 "nbformat_minor": 2
}
